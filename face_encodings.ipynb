{
  "nbformat": 4,
  "nbformat_minor": 0,
  "metadata": {
    "colab": {
      "name": "face_encodings.ipynb",
      "provenance": [],
      "authorship_tag": "ABX9TyM7uc+IfRzUorFAHi0REa7t",
      "include_colab_link": true
    },
    "kernelspec": {
      "name": "python3",
      "display_name": "Python 3"
    },
    "language_info": {
      "name": "python"
    },
    "accelerator": "GPU"
  },
  "cells": [
    {
      "cell_type": "markdown",
      "metadata": {
        "id": "view-in-github",
        "colab_type": "text"
      },
      "source": [
        "<a href=\"https://colab.research.google.com/github/Anamika79/Face_recognition/blob/main/face_encodings.ipynb\" target=\"_parent\"><img src=\"https://colab.research.google.com/assets/colab-badge.svg\" alt=\"Open In Colab\"/></a>"
      ]
    },
    {
      "cell_type": "code",
      "metadata": {
        "colab": {
          "base_uri": "https://localhost:8080/"
        },
        "id": "PmDDwABjlzqg",
        "outputId": "86296a63-879e-4bcf-d7e6-0960a54f59b6"
      },
      "source": [
        "!pip install face_recognition"
      ],
      "execution_count": 1,
      "outputs": [
        {
          "output_type": "stream",
          "text": [
            "Collecting face_recognition\n",
            "  Downloading face_recognition-1.3.0-py2.py3-none-any.whl (15 kB)\n",
            "Collecting face-recognition-models>=0.3.0\n",
            "  Downloading face_recognition_models-0.3.0.tar.gz (100.1 MB)\n",
            "\u001b[K     |████████████████████████████████| 100.1 MB 13 kB/s \n",
            "\u001b[?25hRequirement already satisfied: numpy in /usr/local/lib/python3.7/dist-packages (from face_recognition) (1.19.5)\n",
            "Requirement already satisfied: dlib>=19.7 in /usr/local/lib/python3.7/dist-packages (from face_recognition) (19.18.0)\n",
            "Requirement already satisfied: Pillow in /usr/local/lib/python3.7/dist-packages (from face_recognition) (7.1.2)\n",
            "Requirement already satisfied: Click>=6.0 in /usr/local/lib/python3.7/dist-packages (from face_recognition) (7.1.2)\n",
            "Building wheels for collected packages: face-recognition-models\n",
            "  Building wheel for face-recognition-models (setup.py) ... \u001b[?25l\u001b[?25hdone\n",
            "  Created wheel for face-recognition-models: filename=face_recognition_models-0.3.0-py2.py3-none-any.whl size=100566184 sha256=d28ca5e48ed2999cd4462dc478be1804427e98f99f0c2ae68d53747444428621\n",
            "  Stored in directory: /root/.cache/pip/wheels/d6/81/3c/884bcd5e1c120ff548d57c2ecc9ebf3281c9a6f7c0e7e7947a\n",
            "Successfully built face-recognition-models\n",
            "Installing collected packages: face-recognition-models, face-recognition\n",
            "Successfully installed face-recognition-1.3.0 face-recognition-models-0.3.0\n"
          ],
          "name": "stdout"
        }
      ]
    },
    {
      "cell_type": "code",
      "metadata": {
        "colab": {
          "base_uri": "https://localhost:8080/"
        },
        "id": "WWFF4o4ymc12",
        "outputId": "b65d3e62-844c-433f-cca4-810f198116c8"
      },
      "source": [
        "!pip install dlib"
      ],
      "execution_count": 2,
      "outputs": [
        {
          "output_type": "stream",
          "text": [
            "Requirement already satisfied: dlib in /usr/local/lib/python3.7/dist-packages (19.18.0)\n"
          ],
          "name": "stdout"
        }
      ]
    },
    {
      "cell_type": "code",
      "metadata": {
        "id": "lY6MFJAumopK"
      },
      "source": [
        "import dlib"
      ],
      "execution_count": 3,
      "outputs": []
    },
    {
      "cell_type": "code",
      "metadata": {
        "id": "bbON-Q8Am-19"
      },
      "source": [
        "import face_recognition"
      ],
      "execution_count": 4,
      "outputs": []
    },
    {
      "cell_type": "code",
      "metadata": {
        "id": "Q9-Q88bTnV0o"
      },
      "source": [
        "image = face_recognition.load_image_file(\"person.jpg\")"
      ],
      "execution_count": 5,
      "outputs": []
    },
    {
      "cell_type": "code",
      "metadata": {
        "id": "Kt0zOXzxnf8A"
      },
      "source": [
        "face_encodings = face_recognition.face_encodings(image)"
      ],
      "execution_count": 6,
      "outputs": []
    },
    {
      "cell_type": "code",
      "metadata": {
        "colab": {
          "base_uri": "https://localhost:8080/"
        },
        "id": "oQ8BILDfnshV",
        "outputId": "b2feafab-b2f5-4dd0-eeca-02de8387b8a9"
      },
      "source": [
        "if len(face_encodings) == 0:\n",
        "  print(\"No faces were found\")\n",
        "else:\n",
        "  first_face_encoding = face_encodings[0]               # grab first face encoding\n",
        "  print(first_face_encoding)"
      ],
      "execution_count": 8,
      "outputs": [
        {
          "output_type": "stream",
          "text": [
            "[-0.20855851  0.01845224  0.05200066 -0.01912927 -0.02748835 -0.01855115\n",
            " -0.02725497 -0.0184503   0.19835585 -0.0112457   0.19645664  0.0160067\n",
            " -0.15621796 -0.08862408 -0.00915148  0.11604425 -0.12597211 -0.14229296\n",
            " -0.03572806 -0.03505833  0.03726118  0.03980888 -0.07782647  0.07926027\n",
            " -0.14744228 -0.3470616  -0.10856146 -0.12216781  0.01723715 -0.11650665\n",
            "  0.06511284 -0.03900211 -0.18297049 -0.10930697  0.06847559  0.12637652\n",
            " -0.05037969 -0.09572248  0.13429841 -0.00703449 -0.16005872 -0.05573067\n",
            "  0.08435321  0.27441847  0.13435344  0.08523722  0.00496128 -0.11246416\n",
            "  0.16313235 -0.27373844  0.08402453  0.10128954  0.15344827  0.10832103\n",
            "  0.11609219 -0.09201843  0.07474768  0.25488392 -0.30816695  0.10207553\n",
            "  0.00198595 -0.01495537  0.03411685 -0.02620055  0.21705674  0.14441346\n",
            " -0.11093327 -0.12751678  0.17208101 -0.16183111 -0.04968163  0.12839435\n",
            " -0.03207506 -0.26411176 -0.31615111  0.07128874  0.36263996  0.18028149\n",
            " -0.13117105 -0.01013261 -0.05811106 -0.00737814  0.03560949  0.03457599\n",
            " -0.09948462 -0.06623524 -0.05779983 -0.01711864  0.24389167  0.12510213\n",
            "  0.003106    0.16942385 -0.01417204 -0.02782659  0.00143109  0.06574458\n",
            " -0.10071308  0.00664661 -0.0764025  -0.06614338  0.03114725  0.03002062\n",
            "  0.07674076  0.13323891 -0.21063018  0.15302026 -0.01548971 -0.04833605\n",
            "  0.00523034 -0.02149034 -0.06463669  0.01915052  0.14195825 -0.29341793\n",
            "  0.22209312  0.12297855  0.04837443  0.15621084  0.00215639  0.00968095\n",
            " -0.03717986 -0.11729009 -0.17494757 -0.01424957  0.05999148 -0.07590403\n",
            "  0.07595529 -0.00694486]\n"
          ],
          "name": "stdout"
        }
      ]
    }
  ]
}