{
  "nbformat": 4,
  "nbformat_minor": 0,
  "metadata": {
    "colab": {
      "name": "face_recognition.ipynb",
      "provenance": [],
      "authorship_tag": "ABX9TyMB+tqSS7qwk1rkLDwcDwwr",
      "include_colab_link": true
    },
    "kernelspec": {
      "name": "python3",
      "display_name": "Python 3"
    },
    "language_info": {
      "name": "python"
    },
    "accelerator": "GPU"
  },
  "cells": [
    {
      "cell_type": "markdown",
      "metadata": {
        "id": "view-in-github",
        "colab_type": "text"
      },
      "source": [
        "<a href=\"https://colab.research.google.com/github/Anamika79/Face_recognition/blob/main/face_recognition.ipynb\" target=\"_parent\"><img src=\"https://colab.research.google.com/assets/colab-badge.svg\" alt=\"Open In Colab\"/></a>"
      ]
    },
    {
      "cell_type": "code",
      "metadata": {
        "colab": {
          "base_uri": "https://localhost:8080/"
        },
        "id": "ENv1udklx1U5",
        "outputId": "e363676e-69c8-499f-9379-c7d8cf5293ea"
      },
      "source": [
        "!pip install face_recognition"
      ],
      "execution_count": 1,
      "outputs": [
        {
          "output_type": "stream",
          "text": [
            "Collecting face_recognition\n",
            "  Downloading face_recognition-1.3.0-py2.py3-none-any.whl (15 kB)\n",
            "Requirement already satisfied: dlib>=19.7 in /usr/local/lib/python3.7/dist-packages (from face_recognition) (19.18.0)\n",
            "Collecting face-recognition-models>=0.3.0\n",
            "  Downloading face_recognition_models-0.3.0.tar.gz (100.1 MB)\n",
            "\u001b[K     |████████████████████████████████| 100.1 MB 18 kB/s \n",
            "\u001b[?25hRequirement already satisfied: Pillow in /usr/local/lib/python3.7/dist-packages (from face_recognition) (7.1.2)\n",
            "Requirement already satisfied: numpy in /usr/local/lib/python3.7/dist-packages (from face_recognition) (1.19.5)\n",
            "Requirement already satisfied: Click>=6.0 in /usr/local/lib/python3.7/dist-packages (from face_recognition) (7.1.2)\n",
            "Building wheels for collected packages: face-recognition-models\n",
            "  Building wheel for face-recognition-models (setup.py) ... \u001b[?25l\u001b[?25hdone\n",
            "  Created wheel for face-recognition-models: filename=face_recognition_models-0.3.0-py2.py3-none-any.whl size=100566184 sha256=45666bb1556b9dc985a73b8bce62e2281ea75882b0b720447c09504720dc194c\n",
            "  Stored in directory: /root/.cache/pip/wheels/d6/81/3c/884bcd5e1c120ff548d57c2ecc9ebf3281c9a6f7c0e7e7947a\n",
            "Successfully built face-recognition-models\n",
            "Installing collected packages: face-recognition-models, face-recognition\n",
            "Successfully installed face-recognition-1.3.0 face-recognition-models-0.3.0\n"
          ],
          "name": "stdout"
        }
      ]
    },
    {
      "cell_type": "code",
      "metadata": {
        "id": "lWZPf6cqydkV"
      },
      "source": [
        "import face_recognition"
      ],
      "execution_count": 2,
      "outputs": []
    },
    {
      "cell_type": "code",
      "metadata": {
        "id": "crNMY6BsyhJM"
      },
      "source": [
        "image1 = face_recognition.load_image_file(\"person_1.jpg\")\n",
        "image2 = face_recognition.load_image_file(\"person_2.jpg\")\n",
        "image3 = face_recognition.load_image_file(\"person_3.jpg\")"
      ],
      "execution_count": 3,
      "outputs": []
    },
    {
      "cell_type": "code",
      "metadata": {
        "id": "rP-uSRJmys-n"
      },
      "source": [
        "face_encodings_1 = face_recognition.face_encodings(image1)[0]\n",
        "face_encodings_2 = face_recognition.face_encodings(image2)[0]\n",
        "face_encodings_3 = face_recognition.face_encodings(image3)[0]"
      ],
      "execution_count": 14,
      "outputs": []
    },
    {
      "cell_type": "code",
      "metadata": {
        "id": "15WZkLmyy4u3"
      },
      "source": [
        "# Create a list of all known face encodings\n",
        "known_face_encodings = [\n",
        "    face_encodings_1,\n",
        "    face_encodings_2,\n",
        "    face_encodings_3\n",
        "]"
      ],
      "execution_count": 15,
      "outputs": []
    },
    {
      "cell_type": "code",
      "metadata": {
        "id": "SYqorZVtzBme"
      },
      "source": [
        "# Load the image we want to check\n",
        "unknown_image = face_recognition.load_image_file(\"unknown_1.jpg\")"
      ],
      "execution_count": 16,
      "outputs": []
    },
    {
      "cell_type": "code",
      "metadata": {
        "id": "2Eq4wYI1zGo2"
      },
      "source": [
        "# Get face encodings for any people in the picture\n",
        "unknown_face_encodings = face_recognition.face_encodings(unknown_image)"
      ],
      "execution_count": 8,
      "outputs": []
    },
    {
      "cell_type": "code",
      "metadata": {
        "colab": {
          "base_uri": "https://localhost:8080/"
        },
        "id": "E3PpSxz2zMnt",
        "outputId": "ea81804b-0ba5-4dd1-9c20-c3877c6cd8f1"
      },
      "source": [
        "# There might be more than one person in the photo, so we need to loop over each face we found\n",
        "for unknown_face_encoding in unknown_face_encodings:\n",
        "\n",
        "    # Test if this unknown face encoding matches any of the three people we know\n",
        "    results = face_recognition.compare_faces(known_face_encodings, unknown_face_encoding )\n",
        "\n",
        "    name = \"Unknown\"\n",
        "\n",
        "    if results[0]:\n",
        "        name = \"Person 1\"\n",
        "    elif results[1]:\n",
        "        name = \"Person 2\"\n",
        "    elif results[2]:\n",
        "        name = \"Person 3\"\n",
        "\n",
        "    print(f\"Found {name} in the photo!\")\n"
      ],
      "execution_count": 17,
      "outputs": [
        {
          "output_type": "stream",
          "text": [
            "Found Person 2 in the photo!\n"
          ],
          "name": "stdout"
        }
      ]
    }
  ]
}