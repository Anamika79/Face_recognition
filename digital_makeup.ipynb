{
  "nbformat": 4,
  "nbformat_minor": 0,
  "metadata": {
    "colab": {
      "name": "digital_makeup.ipynb",
      "provenance": [],
      "authorship_tag": "ABX9TyMkpgIHPvscYVS1cHxWs4w9",
      "include_colab_link": true
    },
    "kernelspec": {
      "name": "python3",
      "display_name": "Python 3"
    },
    "language_info": {
      "name": "python"
    },
    "accelerator": "GPU"
  },
  "cells": [
    {
      "cell_type": "markdown",
      "metadata": {
        "id": "view-in-github",
        "colab_type": "text"
      },
      "source": [
        "<a href=\"https://colab.research.google.com/github/Anamika79/Face_recognition/blob/main/digital_makeup.ipynb\" target=\"_parent\"><img src=\"https://colab.research.google.com/assets/colab-badge.svg\" alt=\"Open In Colab\"/></a>"
      ]
    },
    {
      "cell_type": "code",
      "metadata": {
        "colab": {
          "base_uri": "https://localhost:8080/"
        },
        "id": "pQdJ3O4Fn7t3",
        "outputId": "99703473-8770-42c9-b9d8-c9cd857805fe"
      },
      "source": [
        "!pip install face_recognition"
      ],
      "execution_count": 1,
      "outputs": [
        {
          "output_type": "stream",
          "text": [
            "Collecting face_recognition\n",
            "  Downloading face_recognition-1.3.0-py2.py3-none-any.whl (15 kB)\n",
            "Requirement already satisfied: dlib>=19.7 in /usr/local/lib/python3.7/dist-packages (from face_recognition) (19.18.0)\n",
            "Collecting face-recognition-models>=0.3.0\n",
            "  Downloading face_recognition_models-0.3.0.tar.gz (100.1 MB)\n",
            "\u001b[K     |████████████████████████████████| 100.1 MB 14 kB/s \n",
            "\u001b[?25hRequirement already satisfied: Click>=6.0 in /usr/local/lib/python3.7/dist-packages (from face_recognition) (7.1.2)\n",
            "Requirement already satisfied: numpy in /usr/local/lib/python3.7/dist-packages (from face_recognition) (1.19.5)\n",
            "Requirement already satisfied: Pillow in /usr/local/lib/python3.7/dist-packages (from face_recognition) (7.1.2)\n",
            "Building wheels for collected packages: face-recognition-models\n",
            "  Building wheel for face-recognition-models (setup.py) ... \u001b[?25l\u001b[?25hdone\n",
            "  Created wheel for face-recognition-models: filename=face_recognition_models-0.3.0-py2.py3-none-any.whl size=100566184 sha256=c27c4417f84516846cdaa66569b6177bec172104f8ef52be317754367b4d026a\n",
            "  Stored in directory: /root/.cache/pip/wheels/d6/81/3c/884bcd5e1c120ff548d57c2ecc9ebf3281c9a6f7c0e7e7947a\n",
            "Successfully built face-recognition-models\n",
            "Installing collected packages: face-recognition-models, face-recognition\n",
            "Successfully installed face-recognition-1.3.0 face-recognition-models-0.3.0\n"
          ],
          "name": "stdout"
        }
      ]
    },
    {
      "cell_type": "code",
      "metadata": {
        "id": "jDTfmXHEoYxG"
      },
      "source": [
        "from PIL import Image, ImageDraw\n",
        "import face_recognition"
      ],
      "execution_count": 2,
      "outputs": []
    },
    {
      "cell_type": "code",
      "metadata": {
        "id": "eP2iXEKJobKC"
      },
      "source": [
        "# Load the jpg file into a numpy array\n",
        "image = face_recognition.load_image_file(\"people.jpg\")"
      ],
      "execution_count": 4,
      "outputs": []
    },
    {
      "cell_type": "code",
      "metadata": {
        "id": "TUUDBYEsoe0m"
      },
      "source": [
        "# Find all facial features in all the faces in the image\n",
        "face_landmarks_list = face_recognition.face_landmarks(image)"
      ],
      "execution_count": 5,
      "outputs": []
    },
    {
      "cell_type": "code",
      "metadata": {
        "id": "6qfckk0Mohci"
      },
      "source": [
        "# Load the image into a Python Image Library object so that we can draw on top of it and display it\n",
        "pil_image = Image.fromarray(image)"
      ],
      "execution_count": 6,
      "outputs": []
    },
    {
      "cell_type": "code",
      "metadata": {
        "id": "5NIEuXK_oknw"
      },
      "source": [
        "# Create a PIL drawing object to be able to draw lines later\n",
        "d = ImageDraw.Draw(pil_image, 'RGBA')\n"
      ],
      "execution_count": 7,
      "outputs": []
    },
    {
      "cell_type": "code",
      "metadata": {
        "id": "PO7kEJyuompF"
      },
      "source": [
        "for face_landmarks in face_landmarks_list:\n",
        "    # The face landmark detection model returns these features:\n",
        "    #  - chin, left_eyebrow, right_eyebrow, nose_bridge, nose_tip, left_eye, right_eye, top_lip, bottom_lip\n",
        "\n",
        "    # Draw a line over the eyebrows\n",
        "    d.line(face_landmarks[\"left_eyebrow\"], fill=(128, 0, 128, 100), width=3)\n",
        "    d.line(face_landmarks[\"right_eyebrow\"], fill=(128, 0, 128, 100), width=3)\n",
        "\n",
        "    # Draw over the lips\n",
        "    d.polygon(face_landmarks[\"top_lip\"], fill=(128, 0, 128, 100))\n",
        "    d.polygon(face_landmarks[\"bottom_lip\"], fill=(128, 0, 128, 100))"
      ],
      "execution_count": 8,
      "outputs": []
    },
    {
      "cell_type": "code",
      "metadata": {
        "id": "ZOQJpY9loqFa"
      },
      "source": [
        "# Show the final image\n",
        "pil_image.show()"
      ],
      "execution_count": 9,
      "outputs": []
    }
  ]
}